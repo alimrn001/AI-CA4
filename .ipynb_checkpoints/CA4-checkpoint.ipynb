{
 "cells": [
  {
   "cell_type": "markdown",
   "metadata": {},
   "source": [
    "<p style=\"text-align: center; font-size: 35px\">به نام خدا</p>\n",
    "<p style=\"text-align: center; font-size: 25px\">هوش مصنوعی</p>\n",
    "<p style=\"text-align: center; font-size: 25px\">تمرین کامپیوتری شماره 4</p>\n",
    "<p style=\"text-align: center; font-size: 25px\">علی مهرانی</p>\n",
    "<p style=\"text-align: center; font-size: 25px\">شماره دانشجویی : 810198542</p>"
   ]
  },
  {
   "cell_type": "code",
   "execution_count": 61,
   "metadata": {
    "id": "F3m_CaH3gXes"
   },
   "outputs": [],
   "source": [
    "import pandas as pd\n",
    "import math"
   ]
  },
  {
   "cell_type": "markdown",
   "metadata": {},
   "source": [
    "# Phase 1"
   ]
  },
  {
   "cell_type": "markdown",
   "metadata": {
    "id": "wgj-rwNggXe4"
   },
   "source": [
    "# Linear Regression"
   ]
  },
  {
   "cell_type": "markdown",
   "metadata": {
    "id": "b-TMX5-kgXe7"
   },
   "source": [
    "Main form of simple linear regression function: \n",
    "$$f(x) = \\alpha x + \\beta$$\n",
    "\n",
    "here we want to find the intercept($\\alpha$) and slope($\\beta$) by minimizing the derivation of the RSS function:\n",
    "\n",
    "- step 1: Compute RSS of the training data  \n",
    "\n",
    "$$ RSS = \\Sigma (y_i - (\\hat{\\beta} + \\hat{\\alpha} * x_i) )^2 $$\n",
    "\n",
    "- step 2: Compute the derivatives of the RSS function in term of $\\underline{\\alpha}$ and $\\underline{\\beta}$, and set them equal to 0 to find the desired parameters\n",
    "\n",
    "$$ \\frac{\\partial RSS}{\\partial \\beta} = \\Sigma (-f(x_i) + \\hat{\\beta} + \\hat{\\alpha} * x_i) = 0$$\n",
    "$$ \\to \\hat{\\beta} = \\hat{y} - \\hat{\\alpha} \\hat{x} \\to (1)$$\n",
    "\n",
    "\n",
    "$$ \\frac{\\partial RSS}{\\partial \\alpha} = \\Sigma (-2 x_i y_i + 2 \\hat{\\beta} x_i + 2\\hat{\\alpha} x_i ^ 2) = 0 \\to (2)$$\n",
    "\n",
    "$$ (1) , (2) \\to \\hat{\\alpha} = \\frac{\\Sigma{(x_i - \\hat{x})(y_i - \\hat{y})}}{\\Sigma{(x_i - \\hat{x})^2}}\n",
    "$$ \n",
    "$$ \\hat{\\beta} = \\hat{y} - \\hat{\\alpha} \\hat{x}$$\n",
    "\n"
   ]
  },
  {
   "cell_type": "markdown",
   "metadata": {
    "id": "GdPAhX3KgXe9"
   },
   "source": [
    "Based on the formula above, complete this function to compute the parameters of a simple linear regression"
   ]
  },
  {
   "cell_type": "code",
   "execution_count": 62,
   "metadata": {
    "id": "WiBbu2fagXfB"
   },
   "outputs": [],
   "source": [
    "def simple_linear_regression(input_feature, output):\n",
    "    # TO DO:\n",
    "    \n",
    "    # compute the sum of input_feature and output\n",
    "    sum_input = input_feature.sum()\n",
    "    sum_output = output.sum()\n",
    "    num_data = len(output)\n",
    "        \n",
    "    # compute the product of the output and the input_feature and its sum\n",
    "    product_of_inp_out = input_feature * output\n",
    "    sum_product = product_of_inp_out.sum()\n",
    "    \n",
    "    # compute the squared value of the input_feature and its sum\n",
    "    input_squared = input_feature*input_feature\n",
    "    squared_sum  = input_squared.sum()\n",
    "    \n",
    "    # use the formula for the slope\n",
    "    numerator = sum_product - ((float(1)/num_data) * (sum_input*sum_output))\n",
    "    denominator = squared_sum - ((float(1)/num_data) * (sum_input*sum_input))\n",
    "    slope = numerator/denominator\n",
    "    \n",
    "    # use the formula for the intercept\n",
    "    intercept = output.mean()-(slope*input_feature.mean())\n",
    "\n",
    "    return (intercept, slope)"
   ]
  },
  {
   "cell_type": "markdown",
   "metadata": {
    "id": "ihT-a1dvgXfE"
   },
   "source": [
    "Now complete this function to predict the value of given data based on the calculated intercept and slope"
   ]
  },
  {
   "cell_type": "code",
   "execution_count": 63,
   "metadata": {
    "id": "YwHcast_gXfF"
   },
   "outputs": [],
   "source": [
    "def get_regression_predictions(input_feature, intercept, slope):\n",
    "    # TO DO:\n",
    "    # calculate the predicted values:\n",
    "    predicted_values= slope*input_feature + intercept\n",
    "    return (predicted_values)"
   ]
  },
  {
   "cell_type": "markdown",
   "metadata": {
    "id": "SgIG_oJggXfF"
   },
   "source": [
    "Now that we have a model and can make predictions let's evaluate our model using Root Mean Square Error (RSME). RMSE is the square root of the mean of the squared differences between the residuals and the residuals is just a fancy word for the difference between the predicted output and the true output.\n",
    "\n",
    "Complete the following function to compute the RSME of a simple linear regression model given the input_feature, output, intercept and slope:"
   ]
  },
  {
   "cell_type": "code",
   "execution_count": 64,
   "metadata": {
    "id": "aFSnPatrgXfG"
   },
   "outputs": [],
   "source": [
    "def get_root_mean_square_error(predicted_values , output):\n",
    "    # TO DO:\n",
    "\n",
    "    # Compute the residuals (since we are squaring it doesn't matter which order you subtract)\n",
    "    residual = output - (predicted_values)\n",
    "\n",
    "    # square the residuals and add them up\n",
    "    RSS = residual * residual\n",
    "#     print(RSS.sum)\n",
    "    # find the mean of the above phrase\n",
    "    mean = RSS.sum()/len(RSS)\n",
    "    # calculate the root\n",
    "    RMSE = math.sqrt(mean)\n",
    "    return(RMSE)"
   ]
  },
  {
   "cell_type": "markdown",
   "metadata": {
    "id": "VY_28bJFgXfH"
   },
   "source": [
    "AS you might guessed, the RMSE has no bound and it is not easy to find out the percentage of fitting the model into data with it. instead, we use R2 score. The R2 score is calculated by comparing the sum of the squared differences between the actual and predicted values of the dependent variable to the total sum of squared differences between the actual and mean values of the dependent variable. Matematically, the R2 score formula is shown as follows:\n",
    "\n",
    "$$R^2 = 1 - \\frac{SSres}{SStot} = 1 - \\frac{\\sum_{i=1}^{n} (y_{i,true} - y_{i,pred})^2}{\\sum_{i=1}^{n} (y_{i,true} - \\bar{y}_{true})^2} $$"
   ]
  },
  {
   "cell_type": "markdown",
   "metadata": {
    "id": "-Qpx03GxgXfH"
   },
   "source": [
    "In this step, complete the following function to calculate the R2 score of a given input_feature, output, intercept, and slope:"
   ]
  },
  {
   "cell_type": "code",
   "execution_count": 65,
   "metadata": {
    "id": "_5hIou1AgXfJ"
   },
   "outputs": [],
   "source": [
    "def get_r2_score(predicted_values, output):\n",
    "    # TO DO:\n",
    "\n",
    "    # then compute the residuals (since we are squaring it doesn't matter which order you subtract)\n",
    "    residual = output - (predicted_values)\n",
    "    \n",
    "    # square the residuals and add them up -> SSres\n",
    "    SSres = (residual * residual)\n",
    "    SSres = SSres.sum()\n",
    "    print(SSres)\n",
    "    # compute the SStot\n",
    "    err_mean = sum(output)/len(output)\n",
    "    err = output\n",
    "    err = [x - err_mean for x in err]\n",
    "    SStot = sum(err * err)\n",
    "    \n",
    "    # compute the R2 score value\n",
    "    R2_score = 1-(SSres/SStot)\n",
    "    return(R2_score)"
   ]
  },
  {
   "cell_type": "markdown",
   "metadata": {
    "id": "1i90h7gugXfJ"
   },
   "source": [
    "Now calculate the fitness of the model and explain the outputs"
   ]
  },
  {
   "cell_type": "code",
   "execution_count": 68,
   "metadata": {
    "id": "QlpgW1c5gXfK",
    "outputId": "565d94db-ce44-4287-c5ef-6e43107b1b3c"
   },
   "outputs": [
    {
     "name": "stdout",
     "output_type": "stream",
     "text": [
      "*** Feature: sqft_living\n",
      "RSME: 268389.8083641017\n",
      "*** Feature: yr_built\n",
      "RSME: 340741.61564697506\n",
      "*** Feature: grade\n",
      "RSME: 338384.91162881855\n",
      "*** Feature: zipcode\n",
      "RSME: 366834.1372163337\n"
     ]
    }
   ],
   "source": [
    "# TO DO:\n",
    "houses_df = pd.read_csv('house_data.csv')\n",
    "designated_feature_list = ['sqft_living' , 'yr_built' , 'grade' , 'zipcode']\n",
    "\n",
    "for feature in designated_feature_list:\n",
    "    print('*** Feature:', feature)\n",
    "    intercept, slope = simple_linear_regression(houses_df[feature], houses_df['price'])\n",
    "    predicted = get_regression_predictions(houses_df[feature], intercept, slope)\n",
    "    RSME = get_root_mean_square_error(predicted, houses_df['price'])\n",
    "#     R2 = get_r2_score(predicted, houses_df['price'])\n",
    "    print(\"RSME:\", RSME)\n",
    "#     print(\"R2 Score:\", R2)\n",
    "\n",
    "#     print(intercept, slope)\n",
    "    # TO DO: calculate R2 score and RMSE for each given feature"
   ]
  },
  {
   "cell_type": "code",
   "execution_count": null,
   "metadata": {},
   "outputs": [],
   "source": []
  }
 ],
 "metadata": {
  "colab": {
   "provenance": []
  },
  "kernelspec": {
   "display_name": "Python 3 (ipykernel)",
   "language": "python",
   "name": "python3"
  },
  "language_info": {
   "codemirror_mode": {
    "name": "ipython",
    "version": 3
   },
   "file_extension": ".py",
   "mimetype": "text/x-python",
   "name": "python",
   "nbconvert_exporter": "python",
   "pygments_lexer": "ipython3",
   "version": "3.8.6"
  }
 },
 "nbformat": 4,
 "nbformat_minor": 1
}
